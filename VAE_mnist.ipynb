{
  "nbformat": 4,
  "nbformat_minor": 0,
  "metadata": {
    "colab": {
      "name": "VAE_mnist.ipynb",
      "provenance": [],
      "collapsed_sections": [],
      "include_colab_link": true
    },
    "kernelspec": {
      "name": "python3",
      "display_name": "Python 3"
    },
    "accelerator": "GPU"
  },
  "cells": [
    {
      "cell_type": "markdown",
      "metadata": {
        "id": "view-in-github",
        "colab_type": "text"
      },
      "source": [
        "<a href=\"https://colab.research.google.com/github/im-ant/COMP767-PGM/blob/master/VAE_mnist.ipynb\" target=\"_parent\"><img src=\"https://colab.research.google.com/assets/colab-badge.svg\" alt=\"Open In Colab\"/></a>"
      ]
    },
    {
      "cell_type": "markdown",
      "metadata": {
        "id": "lHaeX8SFMQ0a",
        "colab_type": "text"
      },
      "source": [
        "# Mnist VAE\n",
        "\n",
        "Building a VAE and testing it on Mnist data\n",
        "\n",
        "Some userful guide:\n",
        "- https://wiseodd.github.io/techblog/2017/01/24/vae-pytorch/\n",
        "  - (actual github): https://github.com/wiseodd/generative-models/blob/master/VAE/vanilla_vae/vae_pytorch.py\n",
        "- (higher level explanation) http://kvfrans.com/variational-autoencoders-explained/\n",
        "- Basic Pytorch training example: https://pytorch.org/tutorials/beginner/blitz/cifar10_tutorial.html\n",
        "- Computing KL to a unit Gaussian: https://stats.stackexchange.com/questions/318184/kl-loss-with-a-unit-gaussian\n",
        "- Next step: conditional VAE:\n",
        "  - https://wiseodd.github.io/techblog/2016/12/17/conditional-vae/\n",
        "  - https://graviraja.github.io/conditionalvae/#\n",
        "\n",
        "\n"
      ]
    },
    {
      "cell_type": "code",
      "metadata": {
        "id": "7emZh7f8eEr2",
        "colab_type": "code",
        "outputId": "152e165c-ddce-4a4e-bd35-60d39319b247",
        "colab": {
          "base_uri": "https://localhost:8080/",
          "height": 35
        }
      },
      "source": [
        "import torch\n",
        "import torch.nn as nn\n",
        "import torch.nn.functional as F\n",
        "import torch.autograd as autograd\n",
        "import torch.optim as optim\n",
        "from torch.autograd import Variable\n",
        "\n",
        "import numpy as np\n",
        "import matplotlib.pyplot as plt\n",
        "\n",
        "# Check for GPU availability\n",
        "torch.cuda.is_available()"
      ],
      "execution_count": 198,
      "outputs": [
        {
          "output_type": "execute_result",
          "data": {
            "text/plain": [
              "True"
            ]
          },
          "metadata": {
            "tags": []
          },
          "execution_count": 198
        }
      ]
    },
    {
      "cell_type": "code",
      "metadata": {
        "id": "ytqP61fJeOb6",
        "colab_type": "code",
        "outputId": "91469af1-5242-4089-9c88-a7bde47454dd",
        "colab": {
          "base_uri": "https://localhost:8080/",
          "height": 104
        }
      },
      "source": [
        "# Import Mnist\n",
        "from tensorflow.examples.tutorials.mnist import input_data\n",
        "mnist = input_data.read_data_sets('../MNIST_data', one_hot=True)\n",
        "\n",
        "\n",
        "print(type(mnist))"
      ],
      "execution_count": 199,
      "outputs": [
        {
          "output_type": "stream",
          "text": [
            "Extracting ../MNIST_data/train-images-idx3-ubyte.gz\n",
            "Extracting ../MNIST_data/train-labels-idx1-ubyte.gz\n",
            "Extracting ../MNIST_data/t10k-images-idx3-ubyte.gz\n",
            "Extracting ../MNIST_data/t10k-labels-idx1-ubyte.gz\n",
            "<class 'tensorflow.contrib.learn.python.learn.datasets.base.Datasets'>\n"
          ],
          "name": "stdout"
        }
      ]
    },
    {
      "cell_type": "code",
      "metadata": {
        "id": "4CMAG_S1eycj",
        "colab_type": "code",
        "colab": {}
      },
      "source": [
        "## Hyperparameters\n",
        "\n",
        "Z_DIM = 100\n",
        "X_DIM = mnist.train.images.shape[1]\n",
        "LAB_DIM = mnist.train.labels.shape[1]\n",
        "H_DIM = 128\n"
      ],
      "execution_count": 0,
      "outputs": []
    },
    {
      "cell_type": "code",
      "metadata": {
        "id": "mqrFooRBgpUa",
        "colab_type": "code",
        "colab": {}
      },
      "source": [
        "### Building the VAE ###\n",
        "\n",
        "class Vae(nn.Module):\n",
        "  # Constructor\n",
        "  def __init__(self, input_dim, hidden_dim, latent_dim, output_dim):\n",
        "    super(Vae, self).__init__()\n",
        "    # Attributes\n",
        "    self.input_d = input_dim\n",
        "    self.hidden_d = hidden_dim\n",
        "    self.latent_d = latent_dim\n",
        "    self.output_d = output_dim\n",
        "        \n",
        "    \n",
        "    # Encoder layers\n",
        "    self.fc1 = nn.Linear(self.input_d, self.hidden_d)\n",
        "    self.relu1 = nn.ReLU()\n",
        "    self.mu = nn.Linear(self.hidden_d, self.latent_d)\n",
        "    self.log_var = nn.Linear(self.hidden_d, self.latent_d)\n",
        "    \n",
        "    # Decoding layers\n",
        "    self.fc2 = nn.Linear(self.latent_d, self.hidden_d)\n",
        "    self.relu2 = nn.ReLU()\n",
        "    self.output = nn.Linear(self.hidden_d, self.output_d)    \n",
        "    self.sigmoid = nn.Sigmoid()\n",
        "    \n",
        "  \n",
        "  # Encoder\n",
        "  def encode(self, x):\n",
        "    h = self.relu1( self.fc1(x) )\n",
        "    mean = self.mu(h)\n",
        "    log_variance = self.log_var(h) # log variance for easier computation later\n",
        "    \n",
        "    return mean, log_variance\n",
        "  \n",
        "  \n",
        "  # Sampler\n",
        "  def sample_z(self, mean, log_variance):\n",
        "    eps = torch.randn((self.latent_d))\n",
        "    z = mean + (torch.exp(log_variance / 2) * eps)\n",
        "    \n",
        "    return z\n",
        "  \n",
        "  \n",
        "  # Decoder\n",
        "  def decode(self, z):\n",
        "    h = self.relu2( self.fc2(z) )\n",
        "    y = self.sigmoid( self.output(h) )\n",
        "    \n",
        "    return y\n",
        "  \n",
        "    \n",
        "    "
      ],
      "execution_count": 0,
      "outputs": []
    },
    {
      "cell_type": "code",
      "metadata": {
        "id": "gbdrHt2GCQBl",
        "colab_type": "code",
        "colab": {}
      },
      "source": [
        "## Training initialization\n",
        "\n",
        "EPOCHS = 20000\n",
        "MINBATCH_SIZE = 256\n",
        "LEARNING_RATE = 1e-3\n",
        "\n",
        "\n",
        "# Model and solver\n",
        "model = Vae(X_DIM, H_DIM, Z_DIM, X_DIM)\n",
        "solver = optim.Adam(model.parameters(), lr=LEARNING_RATE)\n",
        "\n",
        "\n",
        "# Keep track of losses\n",
        "kl_perEpoch = []\n",
        "recon_perEpoch = []"
      ],
      "execution_count": 0,
      "outputs": []
    },
    {
      "cell_type": "code",
      "metadata": {
        "id": "901d9w_fgpMr",
        "colab_type": "code",
        "colab": {
          "base_uri": "https://localhost:8080/",
          "height": 363
        },
        "outputId": "2f1a1713-1dfd-4980-e781-281ff120ae23"
      },
      "source": [
        "epoch_modulo = 1000\n",
        "\n",
        "## Training begins ##\n",
        "for ep in range(20000):\n",
        "  ## Get current batch of training data\n",
        "  X, _ = mnist.train.next_batch(MINBATCH_SIZE)\n",
        "  X = Variable(torch.from_numpy(X))\n",
        "  \n",
        "  # Zero the optimizer gradient\n",
        "  solver.zero_grad()\n",
        "  \n",
        "  ## Forward pass\n",
        "  mu_vec, log_var_vec = model.encode(X)\n",
        "  z_vec = model.sample_z(mu_vec, log_var_vec)\n",
        "  pred_X = model.decode(z_vec)\n",
        "  \n",
        "  \n",
        "  ## Loss\n",
        "  # Reconstruction loss\n",
        "  #recon_loss = F.mse_loss(pred_X, X)\n",
        "  #recon_loss = F.binary_cross_entropy(pred_X, X, reduction='mean') #hacky? what does this even mean?\n",
        "  recon_loss = F.binary_cross_entropy(pred_X, X, reduction='sum') / MINBATCH_SIZE\n",
        "  \n",
        "  # Compute KL loss to a unit Gaussian:\n",
        "  # First sum loss for each example, then average over minibatch of examples\n",
        "  #kl_loss = torch.mean(0.5*torch.sum( (torch.exp(log_var_vec) + (mu_vec**2) - log_var_vec - 1), 1))\n",
        "  kl_loss = torch.mean(0.5 * torch.sum(torch.exp(log_var_vec) + mu_vec**2 - 1. - log_var_vec, 1))\n",
        "  \n",
        "  loss = recon_loss + kl_loss\n",
        "  \n",
        "  # Backward\n",
        "  loss.backward()\n",
        "  solver.step()\n",
        "  \n",
        "  \n",
        "  # Housekeeping\n",
        "  if (ep+1) % epoch_modulo == 0:\n",
        "    print('Epoch %d out of %d' % (ep+1, EPOCHS), end='\\t')\n",
        "    print('Loss: %f' % loss)\n",
        "  \n",
        "  recon_perEpoch.append(float(recon_loss))\n",
        "  kl_perEpoch.append(float(kl_loss))\n"
      ],
      "execution_count": 272,
      "outputs": [
        {
          "output_type": "stream",
          "text": [
            "Epoch 1000 out of 20000\tLoss: 109.537361\n",
            "Epoch 2000 out of 20000\tLoss: 105.786659\n",
            "Epoch 3000 out of 20000\tLoss: 105.718666\n",
            "Epoch 4000 out of 20000\tLoss: 110.754227\n",
            "Epoch 5000 out of 20000\tLoss: 104.526520\n",
            "Epoch 6000 out of 20000\tLoss: 110.722557\n",
            "Epoch 7000 out of 20000\tLoss: 110.544876\n",
            "Epoch 8000 out of 20000\tLoss: 106.388741\n",
            "Epoch 9000 out of 20000\tLoss: 108.694923\n",
            "Epoch 10000 out of 20000\tLoss: 106.883690\n",
            "Epoch 11000 out of 20000\tLoss: 105.373863\n",
            "Epoch 12000 out of 20000\tLoss: 113.357376\n",
            "Epoch 13000 out of 20000\tLoss: 113.137680\n",
            "Epoch 14000 out of 20000\tLoss: 106.573837\n",
            "Epoch 15000 out of 20000\tLoss: 116.738571\n",
            "Epoch 16000 out of 20000\tLoss: 113.534622\n",
            "Epoch 17000 out of 20000\tLoss: 105.765343\n",
            "Epoch 18000 out of 20000\tLoss: 112.487297\n",
            "Epoch 19000 out of 20000\tLoss: 109.959808\n",
            "Epoch 20000 out of 20000\tLoss: 111.776031\n"
          ],
          "name": "stdout"
        }
      ]
    },
    {
      "cell_type": "code",
      "metadata": {
        "id": "l80t7XjtghmY",
        "colab_type": "code",
        "colab": {
          "base_uri": "https://localhost:8080/",
          "height": 281
        },
        "outputId": "a8ea333a-b061-4141-f93b-3bb5698e2d71"
      },
      "source": [
        "## Visualize loss\n",
        "\n",
        "plt.figure(figsize=(13, 4))\n",
        "\n",
        "plt.subplot(1,2,1)\n",
        "plt.plot(recon_perEpoch)\n",
        "plt.title('Reconstruction MSE')\n",
        "\n",
        "plt.subplot(1,2,2)\n",
        "plt.plot(kl_perEpoch)\n",
        "plt.title('KL Divergence')\n",
        "\n",
        "plt.show()"
      ],
      "execution_count": 273,
      "outputs": [
        {
          "output_type": "display_data",
          "data": {
            "image/png": "[encoded data removed]",
            "text/plain": [
              "<Figure size 936x288 with 2 Axes>"
            ]
          },
          "metadata": {
            "tags": []
          }
        }
      ]
    },
    {
      "cell_type": "code",
      "metadata": {
        "id": "HNeZwQdmD7Ab",
        "colab_type": "code",
        "colab": {
          "base_uri": "https://localhost:8080/",
          "height": 952
        },
        "outputId": "9da49b77-c5ce-4aaa-930c-111789557bb5"
      },
      "source": [
        "## Visualize some input and output ##\n",
        "\n",
        "Num_Examples = 5\n",
        "imgDim = ( int(np.sqrt(X_DIM)), int(np.sqrt(X_DIM)) )\n",
        "\n",
        "for n_ex in range(1, Num_Examples+1):\n",
        "  ## Get current batch of training data\n",
        "  test_x, test_y = mnist.test.next_batch(1)\n",
        "  test_x = Variable(torch.from_numpy(test_x))\n",
        "  \n",
        "  \n",
        "  # Map to latent\n",
        "  test_mu_vec, test_log_var_vec = model.encode(test_x)\n",
        "  test_z_vec = model.sample_z(test_mu_vec, test_log_var_vec)\n",
        "  pred_test_x = model.decode(test_z_vec)\n",
        "  \n",
        "  # Original and reconstructed images\n",
        "  ori_img = test_x.view(imgDim).data\n",
        "  recon_img = pred_test_x.view(imgDim).data\n",
        "  \n",
        "  # Plot\n",
        "  plt.subplot(1,2,1)\n",
        "  plt.imshow(ori_img)\n",
        "  \n",
        "  plt.subplot(1,2,2)\n",
        "  plt.imshow(recon_img)\n",
        "  \n",
        "  \n",
        "  plt.show()\n",
        "  "
      ],
      "execution_count": 274,
      "outputs": [
        {
          "output_type": "display_data",
          "data": {
            "image/png": "[encoded data removed]",
            "text/plain": [
              "<Figure size 432x288 with 2 Axes>"
            ]
          },
          "metadata": {
            "tags": []
          }
        },
        {
          "output_type": "display_data",
          "data": {
            "image/png": "[encoded data removed]",
            "text/plain": [
              "<Figure size 432x288 with 2 Axes>"
            ]
          },
          "metadata": {
            "tags": []
          }
        },
        {
          "output_type": "display_data",
          "data": {
            "image/png": "[encoded data removed]",
            "text/plain": [
              "<Figure size 432x288 with 2 Axes>"
            ]
          },
          "metadata": {
            "tags": []
          }
        },
        {
          "output_type": "display_data",
          "data": {
            "image/png": "[encoded data removed]",
            "text/plain": [
              "<Figure size 432x288 with 2 Axes>"
            ]
          },
          "metadata": {
            "tags": []
          }
        },
        {
          "output_type": "display_data",
          "data": {
            "image/png": "[encoded data removed]",
            "text/plain": [
              "<Figure size 432x288 with 2 Axes>"
            ]
          },
          "metadata": {
            "tags": []
          }
        }
      ]
    },
    {
      "cell_type": "code",
      "metadata": {
        "id": "vohspK08gg6J",
        "colab_type": "code",
        "colab": {
          "base_uri": "https://localhost:8080/",
          "height": 160
        },
        "outputId": "601e66e4-1e4e-429b-e1b6-875a3808e647"
      },
      "source": [
        "## Output from sampling unit gaussian ##\n",
        "\n",
        "Num_Examples = 8\n",
        "imgDim = ( int(np.sqrt(X_DIM)), int(np.sqrt(X_DIM)) )\n",
        "\n",
        "\n",
        "plt.figure(figsize=(20, 2))\n",
        "\n",
        "\n",
        "for n_ex in range(1, Num_Examples+1):\n",
        "  unitGaus_sample = torch.randn((Z_DIM))\n",
        "  cur_out_x = model.decode(unitGaus_sample)\n",
        "  \n",
        "  cur_img = cur_out_x.view(imgDim).data\n",
        "  \n",
        "  plt.subplot(1,Num_Examples, n_ex)\n",
        "  plt.imshow(cur_img)\n",
        "\n",
        "plt.show()\n",
        "\n",
        "  "
      ],
      "execution_count": 275,
      "outputs": [
        {
          "output_type": "display_data",
          "data": {
            "image/png": "[encoded data removed]",
            "text/plain": [
              "<Figure size 1440x144 with 8 Axes>"
            ]
          },
          "metadata": {
            "tags": []
          }
        }
      ]
    },
    {
      "cell_type": "code",
      "metadata": {
        "id": "4PNBugSmblHN",
        "colab_type": "code",
        "colab": {}
      },
      "source": [
        ""
      ],
      "execution_count": 0,
      "outputs": []
    }
  ]
}